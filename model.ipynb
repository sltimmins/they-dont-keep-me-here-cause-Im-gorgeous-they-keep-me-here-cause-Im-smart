{
 "cells": [
  {
   "cell_type": "markdown",
   "metadata": {},
   "source": [
    "# 2122 World Population Projection"
   ]
  },
  {
   "cell_type": "markdown",
   "metadata": {},
   "source": [
    "### World Population Data\n",
    "\n",
    "With the population's doubling time shortening every year, it is no surprise the human population is expected to reach an estimated 8 billion people by next year. In a century from now, the population is projected to continue to grow, but at a slower rate. \n",
    "\n",
    "This journal explains Team *They Don't Keep Me Here Cause I'm Gorgeous, They Keep Me Here Cause I'm Smart*'s projection for the world population in 2122. "
   ]
  },
  {
   "cell_type": "markdown",
   "metadata": {},
   "source": [
    "### Collection of Data\n",
    "\n",
    "First, in order to project world population, we collected past population statistics from a variety of sources (shown below). Specifically, we focused on the United Nations' and United States' statistics as we found them to be the most accurate. We also collected information on each year's birth and death rate to help calculate the percent growth of the population from year to year.\n",
    "\n",
    "The data is parsed into a 2 DataFrames for ease of access."
   ]
  },
  {
   "cell_type": "code",
   "execution_count": 6,
   "metadata": {},
   "outputs": [
    {
     "data": {
      "text/plain": [
       "<AxesSubplot:xlabel='Year'>"
      ]
     },
     "execution_count": 6,
     "metadata": {},
     "output_type": "execute_result"
    },
    {
     "data": {
      "image/png": "[encoded data removed]",
      "text/plain": [
       "<Figure size 432x288 with 1 Axes>"
      ]
     },
     "metadata": {
      "needs_background": "light"
     },
     "output_type": "display_data"
    }
   ],
   "source": [
    "import pandas as pd\n",
    "pd.options.mode.chained_assignment = None\n",
    "import matplotlib.pyplot as plt\n",
    "import numpy as np\n",
    "from scipy.optimize import curve_fit\n",
    "\n",
    "site = \"https://en.wikipedia.org/wiki/Estimates_of_historical_world_population\"\n",
    "# parse all tables from Wikipedia page\n",
    "# use M as decimal point to allow for numbers expressed in millions to be treated as values\n",
    "tables = pd.read_html(site, header=0, index_col=0, decimal='M')\n",
    "\n",
    "# grab table with population data from 1950 - 2016\n",
    "table = tables[2]\n",
    "\n",
    "# parse growth rate info\n",
    "growth = pd.read_csv(\"data/growth_rate.csv\", header=0, index_col=0)\n",
    "\n",
    "# rename and remove unnecessary columns\n",
    "table.columns = [\"US\", \"PRB\", \"UN\", \"Maddison\", \"HYDE\", \"Tanton\", \"Biraben\", \"M&J\", \"Thomlinson\", \"Durand\", \"Clark\"]\n",
    "table.drop(columns=[\"PRB\", \"Maddison\", \"HYDE\", \"Tanton\", \"Biraben\", \"M&J\", \"Thomlinson\", \"Durand\", \"Clark\"], inplace=True)\n",
    "\n",
    "# parse birth rate and death rate data\n",
    "BrDrGraph = pd.read_csv ('data/br_dr_stats.csv')\n",
    "\n",
    "# plot population growth from 1950 to 2016\n",
    "table.plot()"
   ]
  },
  {
   "cell_type": "markdown",
   "metadata": {},
   "source": [
    "As shown above, the U.N. and US's estimates are similar and follow a general trend. The plot starts at 1950 as that is when more accurate sources of world population totals began to be collected."
   ]
  },
  {
   "cell_type": "markdown",
   "metadata": {},
   "source": [
    "### Projecting Population\n",
    "\n",
    "In order to predict the world population, we decided to factor in the birth and death rate. Using past data, we found that these two attributes followed a sigmoid function, so we used that function to plot their change over time including projecting birth and death rate into the next centure.\n",
    "\n",
    "From there, we used the projected birth and death rate in a proportional growth function to project total world population."
   ]
  },
  {
   "cell_type": "code",
   "execution_count": 22,
   "metadata": {},
   "outputs": [
    {
     "name": "stdout",
     "output_type": "stream",
     "text": [
      "Projected population in 2122: 10.935074824191299 billion people\n"
     ]
    },
    {
     "data": {
      "image/png": "[encoded data removed]",
      "text/plain": [
       "<Figure size 432x288 with 1 Axes>"
      ]
     },
     "metadata": {
      "needs_background": "light"
     },
     "output_type": "display_data"
    }
   ],
   "source": [
    "un = table.UN / 1e9\n",
    "us = table.US / 1e9\n",
    "\n",
    "t0 = un.index[0]\n",
    "t1 = un.index[-2]\n",
    "time = t1 - t0\n",
    "\n",
    "p0 = un[t0]\n",
    "p1 = un[t1]\n",
    "\n",
    "x = BrDrGraph[\"Year\"]\n",
    "yBR = BrDrGraph[\"BR\"]\n",
    "yDR = BrDrGraph[\"DR\"]\n",
    "\n",
    "# sigmoid function\n",
    "def sigmoid(x, L ,x0, k, b):\n",
    "    y = L / (1 + np.exp(-k * (x - x0))) + b\n",
    "    return (y)\n",
    "\n",
    "# give initial data to fit function\n",
    "p0BR = [max(yBR), np.median(x), 1, min(yBR)]\n",
    "p0DR = [max(yDR), np.median(x), 1, min(yDR)]\n",
    "\n",
    "# fit data to a sigmoid curve\n",
    "poptBR, pcovBR = curve_fit(sigmoid, x, yBR, p0BR, method=\"dogbox\")\n",
    "poptDR, pcovDR = curve_fit(sigmoid, x, yDR, p0DR, method=\"dogbox\")\n",
    "\n",
    "# add years to project to series\n",
    "i = 71\n",
    "while x[i] != 2122: \n",
    "    x[i + 1] = x[i] + 1\n",
    "    i = i + 1\n",
    "   \n",
    "# project birth and death rates based on sigmoid curve \n",
    "br = sigmoid(x, *poptBR)\n",
    "dr = sigmoid(x, *poptDR) * 1.69\n",
    "\n",
    "# project total population growth for each year from 2015 to 2122\n",
    "results = {}\n",
    "results[t1] = p1\n",
    "for t in range(t1, 2122):\n",
    "    results[t + 1] = results[t] + (results[t] * (br[t - 1950] - dr[t - 1950]))\n",
    "    \n",
    "s = pd.Series(results, name=\"Population\")\n",
    "s.plot()\n",
    "print(\"Projected population in 2122: \" + str(results[2122]) + \" billion people\")"
   ]
  },
  {
   "cell_type": "markdown",
   "metadata": {},
   "source": [
    "The data we used gives a wide variety of different accuracies, with some countries rounding and some countries not. Therefore, in order to bypass the false precision, we rounded our total world population to only 3 significant figures.  \n",
    "\n",
    "In conclusion, we found that the world population in 2122 will be approximately:\n",
    "\n",
    "### 10.9 Billion People"
   ]
  }
 ],
 "metadata": {
  "interpreter": {
   "hash": "df026aa2a1ee77e799b5017bf101db41f018d254aa3fe2314fbbad49e0b93c7a"
  },
  "kernelspec": {
   "display_name": "Python 3.9.7 64-bit ('mlenv': conda)",
   "language": "python",
   "name": "python3"
  },
  "language_info": {
   "codemirror_mode": {
    "name": "ipython",
    "version": 3
   },
   "file_extension": ".py",
   "mimetype": "text/x-python",
   "name": "python",
   "nbconvert_exporter": "python",
   "pygments_lexer": "ipython3",
   "version": "3.9.7"
  },
  "orig_nbformat": 4
 },
 "nbformat": 4,
 "nbformat_minor": 2
}
