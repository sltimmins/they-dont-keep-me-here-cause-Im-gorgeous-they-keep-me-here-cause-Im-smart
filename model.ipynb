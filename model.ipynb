{
 "cells": [
  {
   "cell_type": "markdown",
   "metadata": {},
   "source": [
    "## They don't keep me here cause I'm gorgeous they keep me here cause I'm smart"
   ]
  },
  {
   "cell_type": "markdown",
   "metadata": {},
   "source": [
    "#### World Population Data"
   ]
  },
  {
   "cell_type": "code",
   "execution_count": 2,
   "metadata": {},
   "outputs": [
    {
     "data": {
      "text/plain": [
       "<AxesSubplot:xlabel='Year'>"
      ]
     },
     "execution_count": 2,
     "metadata": {},
     "output_type": "execute_result"
    },
    {
     "data": {
      "image/png": "[encoded data removed]",
      "text/plain": [
       "<Figure size 432x288 with 1 Axes>"
      ]
     },
     "metadata": {
      "needs_background": "light"
     },
     "output_type": "display_data"
    }
   ],
   "source": [
    "import pandas as pd\n",
    "import matplotlib.pyplot as plt\n",
    "import numpy as np\n",
    "\n",
    "site = \"https://en.wikipedia.org/wiki/Estimates_of_historical_world_population\"\n",
    "# parse all tables from Wikipedia page\n",
    "# use M as decimal point to allow for numbers expressed in millions to be treated as values\n",
    "tables = pd.read_html(site, header=0, index_col=0, decimal='M')\n",
    "\n",
    "# grab table with population data from 1950 - 2016\n",
    "table = tables[2]\n",
    "\n",
    "# parse growth rate info\n",
    "growth = pd.read_csv(\"data/growth_rate.csv\", header=0, index_col=0)\n",
    "\n",
    "# rename and remove unnecessary columns\n",
    "table.columns = [\"US\", \"PRB\", \"UN\", \"Maddison\", \"HYDE\", \"Tanton\", \"Biraben\", \"M&J\", \"Thomlinson\", \"Durand\", \"Clark\"]\n",
    "table.drop(columns=[\"PRB\", \"Maddison\", \"HYDE\", \"Tanton\", \"Biraben\", \"M&J\", \"Thomlinson\", \"Durand\", \"Clark\"], inplace=True)\n",
    "\n",
    "# plot population growth from 1950 to 2016\n",
    "table.plot()"
   ]
  },
  {
   "cell_type": "markdown",
   "metadata": {},
   "source": [
    "#### Predicting Population"
   ]
  },
  {
   "cell_type": "markdown",
   "metadata": {},
   "source": [
    "Using proportional growth, needs model to predict yearly change percentage"
   ]
  },
  {
   "cell_type": "code",
   "execution_count": 3,
   "metadata": {},
   "outputs": [
    {
     "data": {
      "text/plain": [
       "1950    2.525149\n",
       "1951    2.572622\n",
       "1952    2.619186\n",
       "1953    2.665808\n",
       "1954    2.712726\n",
       "          ...   \n",
       "2012    7.090896\n",
       "2013    7.175278\n",
       "2014    7.259229\n",
       "2015    7.343436\n",
       "2016    7.427151\n",
       "Name: Population, Length: 67, dtype: float64"
      ]
     },
     "execution_count": 3,
     "metadata": {},
     "output_type": "execute_result"
    }
   ],
   "source": [
    "un = table.UN / 1e9\n",
    "us = table.US / 1e9\n",
    "\n",
    "t0 = un.index[0]\n",
    "t1 = un.index[-1]\n",
    "time = t1 - t0\n",
    "\n",
    "p0 = un[t0]\n",
    "\n",
    "# results = Series()\n",
    "results = {}\n",
    "results[t0] = p0\n",
    "for t in range(t0, t1):\n",
    "    results[t + 1] = results[t] + (results[t] * (float(growth.loc[t + 1][\"Yearly Change\"][:-1]) / 100))\n",
    "    \n",
    "s = pd.Series(results, name=\"Population\")\n",
    "s\n"
   ]
  },
  {
   "cell_type": "markdown",
   "metadata": {},
   "source": [
    "Using quadratic growth"
   ]
  },
  {
   "cell_type": "code",
   "execution_count": 4,
   "metadata": {},
   "outputs": [
    {
     "data": {
      "text/plain": [
       "1950     2.525149\n",
       "1951     2.576800\n",
       "1952     2.629268\n",
       "1953     2.682557\n",
       "1954     2.736668\n",
       "          ...    \n",
       "2118    13.020382\n",
       "2119    13.040737\n",
       "2120    13.060646\n",
       "2121    13.080117\n",
       "2122    13.099159\n",
       "Name: Population, Length: 173, dtype: float64"
      ]
     },
     "execution_count": 4,
     "metadata": {},
     "output_type": "execute_result"
    }
   ],
   "source": [
    "alpha = 25 / 1000\n",
    "beta = -1.8 / 1000\n",
    "\n",
    "results = {}\n",
    "results[t0] = p0\n",
    "\n",
    "t1 = 2122\n",
    "for t in range(t0, t1):\n",
    "    growth = alpha * results[t] + beta * results[t]**2\n",
    "    results[t + 1] = results[t] + growth\n",
    "    \n",
    "s = pd.Series(results, name=\"Population\")\n",
    "s"
   ]
  },
  {
   "cell_type": "code",
   "execution_count": 6,
   "metadata": {},
   "outputs": [
    {
     "name": "stdout",
     "output_type": "stream",
     "text": [
      "(0.005615634369937977, 0.0015317165026049351)\n"
     ]
    },
    {
     "data": {
      "image/png": "[encoded data removed]",
      "text/plain": [
       "<Figure size 432x288 with 1 Axes>"
      ]
     },
     "metadata": {
      "needs_background": "light"
     },
     "output_type": "display_data"
    }
   ],
   "source": [
    "BrDrGraph = pd.read_csv ('data/br_dr_stats.csv')\n",
    "\n",
    "def projectBirthsOrDeaths(year):\n",
    "    x = BrDrGraph[\"Year\"]\n",
    "    yBR = BrDrGraph[\"BR\"]\n",
    "    yDR = BrDrGraph[\"DR\"]\n",
    "\n",
    "    plt.scatter(x, yBR)\n",
    "    fit = np.polyfit(x, np.log(yBR), 1)\n",
    "    slope = np.exp(fit[0])\n",
    "    const = np.exp(fit[1])\n",
    "    estimateBR = (slope ** year) * const\n",
    "\n",
    "    plt.scatter(x, yDR)\n",
    "    fit = np.polyfit(x, np.log(yDR), 1)\n",
    "    slope = np.exp(fit[0])\n",
    "    const = np.exp(fit[1])\n",
    "    estimateDR = (slope ** year) * const\n",
    "\n",
    "    return estimateBR, estimateDR\n",
    "\n",
    "print(projectBirthsOrDeaths(2122))"
   ]
  }
 ],
 "metadata": {
  "interpreter": {
   "hash": "df026aa2a1ee77e799b5017bf101db41f018d254aa3fe2314fbbad49e0b93c7a"
  },
  "kernelspec": {
   "display_name": "Python 3.9.7 64-bit ('mlenv': conda)",
   "language": "python",
   "name": "python3"
  },
  "language_info": {
   "codemirror_mode": {
    "name": "ipython",
    "version": 3
   },
   "file_extension": ".py",
   "mimetype": "text/x-python",
   "name": "python",
   "nbconvert_exporter": "python",
   "pygments_lexer": "ipython3",
   "version": "3.9.7"
  },
  "orig_nbformat": 4
 },
 "nbformat": 4,
 "nbformat_minor": 2
}
